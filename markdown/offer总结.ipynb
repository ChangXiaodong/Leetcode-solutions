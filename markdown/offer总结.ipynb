{
 "cells": [
  {
   "cell_type": "markdown",
   "metadata": {
    "deletable": true,
    "editable": true
   },
   "source": [
    "##### 12.打印1最大的n位数\n",
    "   考虑大数问题，转换成字符串计算\n",
    "   \n",
    "   0到9全排列问题，用dfs完成。"
   ]
  },
  {
   "cell_type": "code",
   "execution_count": 16,
   "metadata": {
    "collapsed": false,
    "deletable": true,
    "editable": true
   },
   "outputs": [
    {
     "name": "stdout",
     "output_type": "stream",
     "text": [
      "\n",
      "\n",
      "1\n",
      "2\n",
      "3\n",
      "4\n",
      "5\n",
      "6\n",
      "7\n",
      "8\n",
      "9\n",
      "1\n",
      "10\n",
      "11\n",
      "12\n",
      "13\n",
      "14\n",
      "15\n",
      "16\n",
      "17\n",
      "18\n",
      "19\n",
      "2\n",
      "20\n",
      "21\n",
      "22\n",
      "23\n",
      "24\n",
      "25\n",
      "26\n",
      "27\n",
      "28\n",
      "29\n",
      "3\n",
      "30\n",
      "31\n",
      "32\n",
      "33\n",
      "34\n",
      "35\n",
      "36\n",
      "37\n",
      "38\n",
      "39\n",
      "4\n",
      "40\n",
      "41\n",
      "42\n",
      "43\n",
      "44\n",
      "45\n",
      "46\n",
      "47\n",
      "48\n",
      "49\n",
      "5\n",
      "50\n",
      "51\n",
      "52\n",
      "53\n",
      "54\n",
      "55\n",
      "56\n",
      "57\n",
      "58\n",
      "59\n",
      "6\n",
      "60\n",
      "61\n",
      "62\n",
      "63\n",
      "64\n",
      "65\n",
      "66\n",
      "67\n",
      "68\n",
      "69\n",
      "7\n",
      "70\n",
      "71\n",
      "72\n",
      "73\n",
      "74\n",
      "75\n",
      "76\n",
      "77\n",
      "78\n",
      "79\n",
      "8\n",
      "80\n",
      "81\n",
      "82\n",
      "83\n",
      "84\n",
      "85\n",
      "86\n",
      "87\n",
      "88\n",
      "89\n",
      "9\n",
      "90\n",
      "91\n",
      "92\n",
      "93\n",
      "94\n",
      "95\n",
      "96\n",
      "97\n",
      "98\n",
      "99\n",
      "1\n",
      "10\n",
      "100\n",
      "101\n",
      "102\n",
      "103\n",
      "104\n",
      "105\n",
      "106\n",
      "107\n",
      "108\n",
      "109\n",
      "11\n",
      "110\n",
      "111\n",
      "112\n",
      "113\n",
      "114\n",
      "115\n",
      "116\n",
      "117\n",
      "118\n",
      "119\n",
      "12\n",
      "120\n",
      "121\n",
      "122\n",
      "123\n",
      "124\n",
      "125\n",
      "126\n",
      "127\n",
      "128\n",
      "129\n",
      "13\n",
      "130\n",
      "131\n",
      "132\n",
      "133\n",
      "134\n",
      "135\n",
      "136\n",
      "137\n",
      "138\n",
      "139\n",
      "14\n",
      "140\n",
      "141\n",
      "142\n",
      "143\n",
      "144\n",
      "145\n",
      "146\n",
      "147\n",
      "148\n",
      "149\n",
      "15\n",
      "150\n",
      "151\n",
      "152\n",
      "153\n",
      "154\n",
      "155\n",
      "156\n",
      "157\n",
      "158\n",
      "159\n",
      "16\n",
      "160\n",
      "161\n",
      "162\n",
      "163\n",
      "164\n",
      "165\n",
      "166\n",
      "167\n",
      "168\n",
      "169\n",
      "17\n",
      "170\n",
      "171\n",
      "172\n",
      "173\n",
      "174\n",
      "175\n",
      "176\n",
      "177\n",
      "178\n",
      "179\n",
      "18\n",
      "180\n",
      "181\n",
      "182\n",
      "183\n",
      "184\n",
      "185\n",
      "186\n",
      "187\n",
      "188\n",
      "189\n",
      "19\n",
      "190\n",
      "191\n",
      "192\n",
      "193\n",
      "194\n",
      "195\n",
      "196\n",
      "197\n",
      "198\n",
      "199\n",
      "2\n",
      "20\n",
      "200\n",
      "201\n",
      "202\n",
      "203\n",
      "204\n",
      "205\n",
      "206\n",
      "207\n",
      "208\n",
      "209\n",
      "21\n",
      "210\n",
      "211\n",
      "212\n",
      "213\n",
      "214\n",
      "215\n",
      "216\n",
      "217\n",
      "218\n",
      "219\n",
      "22\n",
      "220\n",
      "221\n",
      "222\n",
      "223\n",
      "224\n",
      "225\n",
      "226\n",
      "227\n",
      "228\n",
      "229\n",
      "23\n",
      "230\n",
      "231\n",
      "232\n",
      "233\n",
      "234\n",
      "235\n",
      "236\n",
      "237\n",
      "238\n",
      "239\n",
      "24\n",
      "240\n",
      "241\n",
      "242\n",
      "243\n",
      "244\n",
      "245\n",
      "246\n",
      "247\n",
      "248\n",
      "249\n",
      "25\n",
      "250\n",
      "251\n",
      "252\n",
      "253\n",
      "254\n",
      "255\n",
      "256\n",
      "257\n",
      "258\n",
      "259\n",
      "26\n",
      "260\n",
      "261\n",
      "262\n",
      "263\n",
      "264\n",
      "265\n",
      "266\n",
      "267\n",
      "268\n",
      "269\n",
      "27\n",
      "270\n",
      "271\n",
      "272\n",
      "273\n",
      "274\n",
      "275\n",
      "276\n",
      "277\n",
      "278\n",
      "279\n",
      "28\n",
      "280\n",
      "281\n",
      "282\n",
      "283\n",
      "284\n",
      "285\n",
      "286\n",
      "287\n",
      "288\n",
      "289\n",
      "29\n",
      "290\n",
      "291\n",
      "292\n",
      "293\n",
      "294\n",
      "295\n",
      "296\n",
      "297\n",
      "298\n",
      "299\n",
      "3\n",
      "30\n",
      "300\n",
      "301\n",
      "302\n",
      "303\n",
      "304\n",
      "305\n",
      "306\n",
      "307\n",
      "308\n",
      "309\n",
      "31\n",
      "310\n",
      "311\n",
      "312\n",
      "313\n",
      "314\n",
      "315\n",
      "316\n",
      "317\n",
      "318\n",
      "319\n",
      "32\n",
      "320\n",
      "321\n",
      "322\n",
      "323\n",
      "324\n",
      "325\n",
      "326\n",
      "327\n",
      "328\n",
      "329\n",
      "33\n",
      "330\n",
      "331\n",
      "332\n",
      "333\n",
      "334\n",
      "335\n",
      "336\n",
      "337\n",
      "338\n",
      "339\n",
      "34\n",
      "340\n",
      "341\n",
      "342\n",
      "343\n",
      "344\n",
      "345\n",
      "346\n",
      "347\n",
      "348\n",
      "349\n",
      "35\n",
      "350\n",
      "351\n",
      "352\n",
      "353\n",
      "354\n",
      "355\n",
      "356\n",
      "357\n",
      "358\n",
      "359\n",
      "36\n",
      "360\n",
      "361\n",
      "362\n",
      "363\n",
      "364\n",
      "365\n",
      "366\n",
      "367\n",
      "368\n",
      "369\n",
      "37\n",
      "370\n",
      "371\n",
      "372\n",
      "373\n",
      "374\n",
      "375\n",
      "376\n",
      "377\n",
      "378\n",
      "379\n",
      "38\n",
      "380\n",
      "381\n",
      "382\n",
      "383\n",
      "384\n",
      "385\n",
      "386\n",
      "387\n",
      "388\n",
      "389\n",
      "39\n",
      "390\n",
      "391\n",
      "392\n",
      "393\n",
      "394\n",
      "395\n",
      "396\n",
      "397\n",
      "398\n",
      "399\n",
      "4\n",
      "40\n",
      "400\n",
      "401\n",
      "402\n",
      "403\n",
      "404\n",
      "405\n",
      "406\n",
      "407\n",
      "408\n",
      "409\n",
      "41\n",
      "410\n",
      "411\n",
      "412\n",
      "413\n",
      "414\n",
      "415\n",
      "416\n",
      "417\n",
      "418\n",
      "419\n",
      "42\n",
      "420\n",
      "421\n",
      "422\n",
      "423\n",
      "424\n",
      "425\n",
      "426\n",
      "427\n",
      "428\n",
      "429\n",
      "43\n",
      "430\n",
      "431\n",
      "432\n",
      "433\n",
      "434\n",
      "435\n",
      "436\n",
      "437\n",
      "438\n",
      "439\n",
      "44\n",
      "440\n",
      "441\n",
      "442\n",
      "443\n",
      "444\n",
      "445\n",
      "446\n",
      "447\n",
      "448\n",
      "449\n",
      "45\n",
      "450\n",
      "451\n",
      "452\n",
      "453\n",
      "454\n",
      "455\n",
      "456\n",
      "457\n",
      "458\n",
      "459\n",
      "46\n",
      "460\n",
      "461\n",
      "462\n",
      "463\n",
      "464\n",
      "465\n",
      "466\n",
      "467\n",
      "468\n",
      "469\n",
      "47\n",
      "470\n",
      "471\n",
      "472\n",
      "473\n",
      "474\n",
      "475\n",
      "476\n",
      "477\n",
      "478\n",
      "479\n",
      "48\n",
      "480\n",
      "481\n",
      "482\n",
      "483\n",
      "484\n",
      "485\n",
      "486\n",
      "487\n",
      "488\n",
      "489\n",
      "49\n",
      "490\n",
      "491\n",
      "492\n",
      "493\n",
      "494\n",
      "495\n",
      "496\n",
      "497\n",
      "498\n",
      "499\n",
      "5\n",
      "50\n",
      "500\n",
      "501\n",
      "502\n",
      "503\n",
      "504\n",
      "505\n",
      "506\n",
      "507\n",
      "508\n",
      "509\n",
      "51\n",
      "510\n",
      "511\n",
      "512\n",
      "513\n",
      "514\n",
      "515\n",
      "516\n",
      "517\n",
      "518\n",
      "519\n",
      "52\n",
      "520\n",
      "521\n",
      "522\n",
      "523\n",
      "524\n",
      "525\n",
      "526\n",
      "527\n",
      "528\n",
      "529\n",
      "53\n",
      "530\n",
      "531\n",
      "532\n",
      "533\n",
      "534\n",
      "535\n",
      "536\n",
      "537\n",
      "538\n",
      "539\n",
      "54\n",
      "540\n",
      "541\n",
      "542\n",
      "543\n",
      "544\n",
      "545\n",
      "546\n",
      "547\n",
      "548\n",
      "549\n",
      "55\n",
      "550\n",
      "551\n",
      "552\n",
      "553\n",
      "554\n",
      "555\n",
      "556\n",
      "557\n",
      "558\n",
      "559\n",
      "56\n",
      "560\n",
      "561\n",
      "562\n",
      "563\n",
      "564\n",
      "565\n",
      "566\n",
      "567\n",
      "568\n",
      "569\n",
      "57\n",
      "570\n",
      "571\n",
      "572\n",
      "573\n",
      "574\n",
      "575\n",
      "576\n",
      "577\n",
      "578\n",
      "579\n",
      "58\n",
      "580\n",
      "581\n",
      "582\n",
      "583\n",
      "584\n",
      "585\n",
      "586\n",
      "587\n",
      "588\n",
      "589\n",
      "59\n",
      "590\n",
      "591\n",
      "592\n",
      "593\n",
      "594\n",
      "595\n",
      "596\n",
      "597\n",
      "598\n",
      "599\n",
      "6\n",
      "60\n",
      "600\n",
      "601\n",
      "602\n",
      "603\n",
      "604\n",
      "605\n",
      "606\n",
      "607\n",
      "608\n",
      "609\n",
      "61\n",
      "610\n",
      "611\n",
      "612\n",
      "613\n",
      "614\n",
      "615\n",
      "616\n",
      "617\n",
      "618\n",
      "619\n",
      "62\n",
      "620\n",
      "621\n",
      "622\n",
      "623\n",
      "624\n",
      "625\n",
      "626\n",
      "627\n",
      "628\n",
      "629\n",
      "63\n",
      "630\n",
      "631\n",
      "632\n",
      "633\n",
      "634\n",
      "635\n",
      "636\n",
      "637\n",
      "638\n",
      "639\n",
      "64\n",
      "640\n",
      "641\n",
      "642\n",
      "643\n",
      "644\n",
      "645\n",
      "646\n",
      "647\n",
      "648\n",
      "649\n",
      "65\n",
      "650\n",
      "651\n",
      "652\n",
      "653\n",
      "654\n",
      "655\n",
      "656\n",
      "657\n",
      "658\n",
      "659\n",
      "66\n",
      "660\n",
      "661\n",
      "662\n",
      "663\n",
      "664\n",
      "665\n",
      "666\n",
      "667\n",
      "668\n",
      "669\n",
      "67\n",
      "670\n",
      "671\n",
      "672\n",
      "673\n",
      "674\n",
      "675\n",
      "676\n",
      "677\n",
      "678\n",
      "679\n",
      "68\n",
      "680\n",
      "681\n",
      "682\n",
      "683\n",
      "684\n",
      "685\n",
      "686\n",
      "687\n",
      "688\n",
      "689\n",
      "69\n",
      "690\n",
      "691\n",
      "692\n",
      "693\n",
      "694\n",
      "695\n",
      "696\n",
      "697\n",
      "698\n",
      "699\n",
      "7\n",
      "70\n",
      "700\n",
      "701\n",
      "702\n",
      "703\n",
      "704\n",
      "705\n",
      "706\n",
      "707\n",
      "708\n",
      "709\n",
      "71\n",
      "710\n",
      "711\n",
      "712\n",
      "713\n",
      "714\n",
      "715\n",
      "716\n",
      "717\n",
      "718\n",
      "719\n",
      "72\n",
      "720\n",
      "721\n",
      "722\n",
      "723\n",
      "724\n",
      "725\n",
      "726\n",
      "727\n",
      "728\n",
      "729\n",
      "73\n",
      "730\n",
      "731\n",
      "732\n",
      "733\n",
      "734\n",
      "735\n",
      "736\n",
      "737\n",
      "738\n",
      "739\n",
      "74\n",
      "740\n",
      "741\n",
      "742\n",
      "743\n",
      "744\n",
      "745\n",
      "746\n",
      "747\n",
      "748\n",
      "749\n",
      "75\n",
      "750\n",
      "751\n",
      "752\n",
      "753\n",
      "754\n",
      "755\n",
      "756\n",
      "757\n",
      "758\n",
      "759\n",
      "76\n",
      "760\n",
      "761\n",
      "762\n",
      "763\n",
      "764\n",
      "765\n",
      "766\n",
      "767\n",
      "768\n",
      "769\n",
      "77\n",
      "770\n",
      "771\n",
      "772\n",
      "773\n",
      "774\n",
      "775\n",
      "776\n",
      "777\n",
      "778\n",
      "779\n",
      "78\n",
      "780\n",
      "781\n",
      "782\n",
      "783\n",
      "784\n",
      "785\n",
      "786\n",
      "787\n",
      "788\n",
      "789\n",
      "79\n",
      "790\n",
      "791\n",
      "792\n",
      "793\n",
      "794\n",
      "795\n",
      "796\n",
      "797\n",
      "798\n",
      "799\n",
      "8\n",
      "80\n",
      "800\n",
      "801\n",
      "802\n",
      "803\n",
      "804\n",
      "805\n",
      "806\n",
      "807\n",
      "808\n",
      "809\n",
      "81\n",
      "810\n",
      "811\n",
      "812\n",
      "813\n",
      "814\n",
      "815\n",
      "816\n",
      "817\n",
      "818\n",
      "819\n",
      "82\n",
      "820\n",
      "821\n",
      "822\n",
      "823\n",
      "824\n",
      "825\n",
      "826\n",
      "827\n",
      "828\n",
      "829\n",
      "83\n",
      "830\n",
      "831\n",
      "832\n",
      "833\n",
      "834\n",
      "835\n",
      "836\n",
      "837\n",
      "838\n",
      "839\n",
      "84\n",
      "840\n",
      "841\n",
      "842\n",
      "843\n",
      "844\n",
      "845\n",
      "846\n",
      "847\n",
      "848\n",
      "849\n",
      "85\n",
      "850\n",
      "851\n",
      "852\n",
      "853\n",
      "854\n",
      "855\n",
      "856\n",
      "857\n",
      "858\n",
      "859\n",
      "86\n",
      "860\n",
      "861\n",
      "862\n",
      "863\n",
      "864\n",
      "865\n",
      "866\n",
      "867\n",
      "868\n",
      "869\n",
      "87\n",
      "870\n",
      "871\n",
      "872\n",
      "873\n",
      "874\n",
      "875\n",
      "876\n",
      "877\n",
      "878\n",
      "879\n",
      "88\n",
      "880\n",
      "881\n",
      "882\n",
      "883\n",
      "884\n",
      "885\n",
      "886\n",
      "887\n",
      "888\n",
      "889\n",
      "89\n",
      "890\n",
      "891\n",
      "892\n",
      "893\n",
      "894\n",
      "895\n",
      "896\n",
      "897\n",
      "898\n",
      "899\n",
      "9\n",
      "90\n",
      "900\n",
      "901\n",
      "902\n",
      "903\n",
      "904\n",
      "905\n",
      "906\n",
      "907\n",
      "908\n",
      "909\n",
      "91\n",
      "910\n",
      "911\n",
      "912\n",
      "913\n",
      "914\n",
      "915\n",
      "916\n",
      "917\n",
      "918\n",
      "919\n",
      "92\n",
      "920\n",
      "921\n",
      "922\n",
      "923\n",
      "924\n",
      "925\n",
      "926\n",
      "927\n",
      "928\n",
      "929\n",
      "93\n",
      "930\n",
      "931\n",
      "932\n",
      "933\n",
      "934\n",
      "935\n",
      "936\n",
      "937\n",
      "938\n",
      "939\n",
      "94\n",
      "940\n",
      "941\n",
      "942\n",
      "943\n",
      "944\n",
      "945\n",
      "946\n",
      "947\n",
      "948\n",
      "949\n",
      "95\n",
      "950\n",
      "951\n",
      "952\n",
      "953\n",
      "954\n",
      "955\n",
      "956\n",
      "957\n",
      "958\n",
      "959\n",
      "96\n",
      "960\n",
      "961\n",
      "962\n",
      "963\n",
      "964\n",
      "965\n",
      "966\n",
      "967\n",
      "968\n",
      "969\n",
      "97\n",
      "970\n",
      "971\n",
      "972\n",
      "973\n",
      "974\n",
      "975\n",
      "976\n",
      "977\n",
      "978\n",
      "979\n",
      "98\n",
      "980\n",
      "981\n",
      "982\n",
      "983\n",
      "984\n",
      "985\n",
      "986\n",
      "987\n",
      "988\n",
      "989\n",
      "99\n",
      "990\n",
      "991\n",
      "992\n",
      "993\n",
      "994\n",
      "995\n",
      "996\n",
      "997\n",
      "998\n",
      "999\n"
     ]
    }
   ],
   "source": [
    "def print1ton(n, s, length):\n",
    "    if length > n:\n",
    "        return\n",
    "    while len(s) > 1 and s!=\"0\" and s[0] == \"0\":\n",
    "        s = s.replace(\"0\", \"\")\n",
    "    if s != \"0\":\n",
    "        print(s)\n",
    "    for i in range(10):\n",
    "        print1ton(n, s + str(i), length + 1)\n",
    "print1ton(3, \"\", 0)"
   ]
  },
  {
   "cell_type": "markdown",
   "metadata": {
    "deletable": true,
    "editable": true
   },
   "source": [
    "##### 13.在O(1)时间内删除链表结点\n",
    "给定单项链表的头指针和一个结点指针，定义一个函数在O(1)时间内删除该节点"
   ]
  },
  {
   "cell_type": "markdown",
   "metadata": {
    "deletable": true,
    "editable": true
   },
   "source": [
    "将后一个结点内容复制到要删除的这个节点中，然后删除后一个结点。考虑只有一个结点的情况和要删除的结点是尾结点的情况"
   ]
  },
  {
   "cell_type": "markdown",
   "metadata": {
    "deletable": true,
    "editable": true
   },
   "source": [
    "##### 14.调整数组顺序使奇数位于偶数前面-\n",
    "- 两个数组，一个存奇数，一个存偶数。从头开始遍历，遍历完将这两个数组组合到一起\n",
    "- inplace：双指针。先遍历一遍数组，输出奇数的个数和偶数的个数，一个指针指在偶数个数+1的位置。偶数指针向后找，找到奇数的话，奇数指针向后找偶数，将两个指针数交换。"
   ]
  },
  {
   "cell_type": "markdown",
   "metadata": {
    "deletable": true,
    "editable": true
   },
   "source": [
    "##### 15.链表中倒数第k个节点\n",
    "双指针，一个指针先移动k步。两个指针同时移动直到后面的指针到末尾。第一个指针在倒数第k个。\n",
    "要注意列表为空和k大于列表长度的情况"
   ]
  },
  {
   "cell_type": "markdown",
   "metadata": {
    "deletable": true,
    "editable": true
   },
   "source": [
    "##### 16.反转列表\n",
    "用特殊测试用例测试算法。\n",
    "- 输入链表为空\n",
    "- 输入链表只有一个结点\n",
    "- 输入链表有多个结点"
   ]
  },
  {
   "cell_type": "markdown",
   "metadata": {
    "deletable": true,
    "editable": true
   },
   "source": [
    "##### 17.合并两个排序链表\n",
    "注意特殊情况。列表为空或存在多个相同值情况"
   ]
  },
  {
   "cell_type": "markdown",
   "metadata": {
    "deletable": true,
    "editable": true
   },
   "source": [
    "##### 18.树的子结构\n",
    "输入两棵树A、B。判断B是不是A的子树。\n",
    "先遍历A，在A中找到B的根节点。然后看B的左右子树和A中的是否一样"
   ]
  },
  {
   "cell_type": "markdown",
   "metadata": {
    "deletable": true,
    "editable": true
   },
   "source": [
    "##### 19.二叉树的镜像\n",
    "前序遍历树，若该节点不是叶节点。则交换左右子树。递归完成。"
   ]
  },
  {
   "cell_type": "markdown",
   "metadata": {
    "deletable": true,
    "editable": true
   },
   "source": [
    "##### 20.顺时针打印矩阵\n",
    "注意边界条件"
   ]
  },
  {
   "cell_type": "code",
   "execution_count": 18,
   "metadata": {
    "collapsed": false,
    "deletable": true,
    "editable": true
   },
   "outputs": [
    {
     "name": "stdout",
     "output_type": "stream",
     "text": [
      "[2, 3]\n"
     ]
    }
   ],
   "source": [
    "class Solution(object):\n",
    "    def help(self, matrix, res):\n",
    "        if not matrix:\n",
    "            return res\n",
    "        row = matrix.__len__()\n",
    "        col = matrix[0].__len__()\n",
    "        if row * col == 0:\n",
    "            return res\n",
    "        for i in range(col):\n",
    "            res.append(matrix[0][i])\n",
    "        for i in range(1, row):\n",
    "            res.append(matrix[i][-1])\n",
    "        if col >= 2 and row >= 2:\n",
    "            for i in range(col - 2, -1, -1):\n",
    "                res.append(matrix[-1][i])\n",
    "        if row >= 3 and col >= 2:\n",
    "            for i in range(row - 2, 0, -1):\n",
    "                res.append(matrix[i][0])\n",
    "        if col >= 2 and row >= 3:\n",
    "            next_matrix = []\n",
    "            for r in range(1, row - 1):\n",
    "                next_matrix.append(matrix[r][1:col - 1])\n",
    "            self.help(next_matrix, res)\n",
    "        else:\n",
    "            return res\n",
    "\n",
    "    def spiralOrder(self, matrix):\n",
    "        \"\"\"\n",
    "        :type matrix: List[List[int]]\n",
    "        :rtype: List[int]\n",
    "        \"\"\"\n",
    "        if not matrix:\n",
    "            return []\n",
    "        res = []\n",
    "        self.help(matrix, res)\n",
    "        return res\n",
    "\n",
    "\n",
    "solution = Solution()\n",
    "print(solution.spiralOrder([[2,3]]))\n"
   ]
  },
  {
   "cell_type": "markdown",
   "metadata": {
    "deletable": true,
    "editable": true
   },
   "source": [
    "##### 21. 包含min函数的栈\n",
    "定义栈的数据结构，能够得到栈元素的min函数。在栈中，min，push，pop复杂度都为O(1)"
   ]
  },
  {
   "cell_type": "code",
   "execution_count": 24,
   "metadata": {
    "collapsed": false,
    "deletable": true,
    "editable": true
   },
   "outputs": [
    {
     "name": "stdout",
     "output_type": "stream",
     "text": [
      "3\n",
      "2\n",
      "3\n"
     ]
    }
   ],
   "source": [
    "class Solution(object):\n",
    "    def __init__(self):\n",
    "        self.stack = []\n",
    "        self.min_num = 0\n",
    "        \n",
    "    def push(self, x):\n",
    "        if not self.stack:\n",
    "            self.min_num = x\n",
    "        self.stack.append(x - self.min_num)\n",
    "        if x < self.min_num:\n",
    "            self.min_num = x\n",
    "    \n",
    "    def pop(self):\n",
    "        x = self.stack.pop()\n",
    "        if x >= 0:\n",
    "            return x + self.min_num\n",
    "        else:\n",
    "            buf = x + self.min_num\n",
    "            self.min_num -= x\n",
    "            return buf\n",
    "    \n",
    "    def min(self):\n",
    "        return self.min_num\n",
    "    \n",
    "solution = Solution()\n",
    "solution.push(3)\n",
    "print(solution.min())\n",
    "solution.push(4)\n",
    "solution.push(2)\n",
    "print(solution.min())\n",
    "solution.push(5)\n",
    "solution.pop()\n",
    "solution.pop()\n",
    "print(solution.min())\n",
    "            "
   ]
  },
  {
   "cell_type": "markdown",
   "metadata": {
    "deletable": true,
    "editable": true
   },
   "source": [
    "##### 22.栈的压入，弹出序列\n",
    "输入两个整数序列，第一个表示压入顺序，判断第二个是否为该栈的弹出序列"
   ]
  },
  {
   "cell_type": "code",
   "execution_count": 3,
   "metadata": {
    "collapsed": false,
    "deletable": true,
    "editable": true
   },
   "outputs": [
    {
     "data": {
      "text/plain": [
       "TestResults(failed=0, attempted=2)"
      ]
     },
     "execution_count": 3,
     "metadata": {},
     "output_type": "execute_result"
    }
   ],
   "source": [
    "def isPopOrder(push_order, pop_order):\n",
    "    '''\n",
    "    >>> isPopOrder([1,2,3,4,5],[4,3,5,1,2])\n",
    "    False\n",
    "    \n",
    "    >>> isPopOrder([1,2,3,4,5],[4,5,3,2,1])\n",
    "    True\n",
    "    '''\n",
    "    if not pop_order:\n",
    "        return True\n",
    "    if not push_order:\n",
    "        return False\n",
    "    stack = []\n",
    "    pop_stack = [push_order.pop(0)]\n",
    "    while pop_order:\n",
    "        _pop = pop_order.pop(0)\n",
    "        while pop_stack[-1] != _pop:\n",
    "            if push_order:\n",
    "                pop_stack.append(push_order.pop(0))\n",
    "            else:\n",
    "                return False\n",
    "        if pop_stack[-1] == _pop:\n",
    "            pop_stack.pop()\n",
    "    return True\n",
    "\n",
    "import doctest\n",
    "doctest.testmod()"
   ]
  },
  {
   "cell_type": "markdown",
   "metadata": {
    "deletable": true,
    "editable": true
   },
   "source": [
    "##### 23.从上往下打印二叉树(层次遍历)"
   ]
  },
  {
   "cell_type": "code",
   "execution_count": null,
   "metadata": {
    "collapsed": true,
    "deletable": true,
    "editable": true
   },
   "outputs": [],
   "source": [
    "def dfs(node, res, level):\n",
    "    if res.__len__() < level + 1:\n",
    "        res.append([])\n",
    "    res[level].append(node.val)\n",
    "    dfs(node.left, res, level + 1)\n",
    "    dfs(node.right, res, level + 1)\n",
    "\n",
    "def levelOrderTraversal(root):\n",
    "    if not root:\n",
    "        return []\n",
    "    res = []\n",
    "    dfs(root, res, 0)\n",
    "    return res\n",
    "        "
   ]
  },
  {
   "cell_type": "markdown",
   "metadata": {
    "deletable": true,
    "editable": true
   },
   "source": [
    "##### 24. 二叉搜索树的后序遍历序列"
   ]
  },
  {
   "cell_type": "markdown",
   "metadata": {
    "deletable": true,
    "editable": true
   },
   "source": [
    "类似于通过中序和前序还原二叉树。\n",
    "\n",
    "在后序遍历中，根节点是最后一个数。由于是二叉搜索树，因此之前的节点比根节点小的为根节点的左子树，大的为右子树。找到左右子树后再分别进行同样的算法。"
   ]
  },
  {
   "cell_type": "code",
   "execution_count": null,
   "metadata": {
    "collapsed": true,
    "deletable": true,
    "editable": true
   },
   "outputs": [],
   "source": [
    "def validBST(order):\n",
    "    if not order:\n",
    "        return True\n",
    "    root = order[-1]\n",
    "    for i, v in enumerate(order[:-1]):\n",
    "        if v > root:\n",
    "            break\n",
    "    left = order[:i]\n",
    "    right = order[i:-1]\n",
    "    for v in right:\n",
    "        if v < root:\n",
    "            return False\n",
    "    if validBST(left) and validBST(right):\n",
    "        return True\n",
    "    else:\n",
    "        return False\n",
    "        "
   ]
  },
  {
   "cell_type": "markdown",
   "metadata": {
    "deletable": true,
    "editable": true
   },
   "source": [
    "##### 25.二叉树中和为某一值的路径\n",
    "用backtrack思想，保存path，前序遍历，如果path等于val，则把path放入结果队列中"
   ]
  },
  {
   "cell_type": "code",
   "execution_count": 4,
   "metadata": {
    "collapsed": false,
    "deletable": true,
    "editable": true
   },
   "outputs": [
    {
     "name": "stdout",
     "output_type": "stream",
     "text": [
      "[[10, 5, 7], [10, 12]]\n"
     ]
    }
   ],
   "source": [
    "class Treenode(object):\n",
    "    def __init__(self, val):\n",
    "        self.left = None\n",
    "        self.right = None\n",
    "        self.val = val\n",
    "        \n",
    "def dfs(node, val, path, res):\n",
    "    if not node:\n",
    "        return\n",
    "    path.append(node.val)\n",
    "    if node.left:\n",
    "        dfs(node.left, val, path, res)\n",
    "    if node.right:\n",
    "        dfs(node.right, val, path, res)\n",
    "    if not node.left and not node.right and sum(path) == val:\n",
    "        res.append(path[:])\n",
    "    path.pop()\n",
    "        \n",
    "    \n",
    "def findPath(root, val):\n",
    "    if not root:\n",
    "        return []\n",
    "    res = []\n",
    "    dfs(root, val, [], res)\n",
    "    return res\n",
    "\n",
    "node1 = Treenode(10)\n",
    "node2 = Treenode(5)\n",
    "node3 = Treenode(12)\n",
    "node4 = Treenode(4)\n",
    "node5 = Treenode(7)\n",
    "node1.left = node2\n",
    "node1.right = node3\n",
    "node2.left = node4\n",
    "node2.right = node5\n",
    "print(findPath(node1, 22))"
   ]
  },
  {
   "cell_type": "markdown",
   "metadata": {
    "deletable": true,
    "editable": true
   },
   "source": [
    "##### 26.复杂链表的复制\n",
    "- 方法1：建立<N,N`>的配对信息哈希表。先复制正常的链表。在复制随机指针的时候，假设N->S,那么N`->S'。可以通过查哈希表，<S, S`>完成\n",
    "- 方法2：复制原始列表的N，创建N’并把N’链接到N后面。N’指向原来N的后继。然后复制复杂链接。复制完后把奇数指针的链表挑出，即为复制好的链表。\n"
   ]
  },
  {
   "cell_type": "markdown",
   "metadata": {
    "deletable": true,
    "editable": true
   },
   "source": [
    "# 27.二叉搜索树与双向链表\n",
    "递归方法转换树\n",
    "convert 返回链表最左端和最右端"
   ]
  },
  {
   "cell_type": "code",
   "execution_count": 11,
   "metadata": {
    "collapsed": false,
    "deletable": true,
    "editable": true
   },
   "outputs": [
    {
     "name": "stdout",
     "output_type": "stream",
     "text": [
      "4\n",
      "6\n",
      "10\n",
      "12\n",
      "14\n",
      "16\n",
      "16\n",
      "14\n",
      "12\n",
      "10\n",
      "6\n",
      "4\n"
     ]
    }
   ],
   "source": [
    "class Treenode(object):\n",
    "    def __init__(self, val):\n",
    "        self.left = None\n",
    "        self.right = None\n",
    "        self.val = val\n",
    "        \n",
    "def convert(root):\n",
    "    if not root:\n",
    "        return [None, None]\n",
    "    (l_m_1, r_m_1) = convert(root.left)\n",
    "    (l_m_2, r_m_2) = convert(root.right)\n",
    "    root.left = r_m_1\n",
    "    if r_m_1:\n",
    "        r_m_1.right = root\n",
    "    root.right = l_m_2\n",
    "    if l_m_2:\n",
    "        l_m_2.left = root\n",
    "    left_most = l_m_1 if l_m_1 else root\n",
    "    right_most = r_m_2 if r_m_2 else root\n",
    "    return [left_most, right_most]\n",
    "\n",
    "\n",
    "node10 = Treenode(10)\n",
    "node6 = Treenode(6)\n",
    "node14 = Treenode(14)\n",
    "node4 = Treenode(4)\n",
    "node8 = Treenode(8)\n",
    "node12 = Treenode(12)\n",
    "node16 = Treenode(16)\n",
    "\n",
    "node10.left = node6\n",
    "node10.right = node14\n",
    "node6.left = node4\n",
    "\n",
    "node14.left = node12\n",
    "node14.right = node16\n",
    "\n",
    "left, right = convert(node10)\n",
    "while left:\n",
    "    print(left.val)\n",
    "    left = left.right\n",
    "while right:\n",
    "    print(right.val)\n",
    "    right = right.left"
   ]
  },
  {
   "cell_type": "markdown",
   "metadata": {
    "deletable": true,
    "editable": true
   },
   "source": [
    "##### 28.字符串排列"
   ]
  },
  {
   "cell_type": "code",
   "execution_count": 15,
   "metadata": {
    "collapsed": false,
    "deletable": true,
    "editable": true
   },
   "outputs": [
    {
     "name": "stdout",
     "output_type": "stream",
     "text": [
      "[[1, 2, 3], [1, 3, 2], [2, 1, 3], [2, 3, 1], [3, 1, 2], [3, 2, 1]]\n"
     ]
    }
   ],
   "source": [
    "def dfs(nums, item, used, res):\n",
    "    if nums.__len__() == item.__len__():\n",
    "        res.append(item[:])\n",
    "        return\n",
    "    for i in range(nums.__len__()):\n",
    "        if used[i] == False:\n",
    "            used[i] = True\n",
    "            item.append(nums[i])\n",
    "            dfs(nums, item, used, res)\n",
    "            item.pop()\n",
    "            used[i] = False\n",
    "            \n",
    "def permutation(nums):\n",
    "    if not nums:\n",
    "        return []\n",
    "    res = []\n",
    "    used = [False for _ in range(nums.__len__())]\n",
    "    dfs(nums, [], used, res)\n",
    "    return res\n",
    "\n",
    "print(permutation([1,2,3]))"
   ]
  },
  {
   "cell_type": "markdown",
   "metadata": {
    "deletable": true,
    "editable": true
   },
   "source": [
    "##### 29. 数组中出现次数超过一半的数字\n",
    "- 方法1：基于快排思想\n",
    "- 方法2：哈希表统计个数"
   ]
  },
  {
   "cell_type": "code",
   "execution_count": 22,
   "metadata": {
    "collapsed": false,
    "deletable": true,
    "editable": true
   },
   "outputs": [
    {
     "name": "stdout",
     "output_type": "stream",
     "text": [
      "2\n"
     ]
    }
   ],
   "source": [
    "def partition(nums, left, right):\n",
    "    pivot = nums[right]\n",
    "    i = left - 1\n",
    "    for j in range(left, right):\n",
    "        if nums[j] <= pivot:\n",
    "            i += 1\n",
    "            nums[i],nums[j] = nums[j], nums[i]\n",
    "    nums[right], nums[i + 1] = nums[i + 1], nums[right]\n",
    "    return i + 1\n",
    "\n",
    "def half_num(nums, left, right):\n",
    "    if left < right:\n",
    "        q = partition(nums, left, right)\n",
    "        if q == nums.__len__() // 2:\n",
    "            return nums[q]\n",
    "        elif q > nums.__len__() // 2:\n",
    "            return half_num(nums, left, q - 1)\n",
    "        else:\n",
    "            return half_num(nums, q + 1, right)\n",
    "    return nums[left]\n",
    "\n",
    "nums = [1,2,3,2,2,2,5,4,2]\n",
    "print(half_num(nums, 0, nums.__len__()-1))\n",
    "            \n",
    "    "
   ]
  },
  {
   "cell_type": "markdown",
   "metadata": {
    "deletable": true,
    "editable": true
   },
   "source": [
    "##### 30. 最小的K个数\n",
    "- 方法1：快排思想\n",
    "- 方法2：小根堆"
   ]
  },
  {
   "cell_type": "markdown",
   "metadata": {
    "deletable": true,
    "editable": true
   },
   "source": [
    "##### 31.连续子数组的最大和\n",
    "- 方法1：如果前i个数的和为负数，第i个数为正数，那么从第i个数开始舍去之前的和，重新计算和。计算过程中保留最大的和。\n",
    "- 方法2：动态规划。dp[i]存储从头到i，最大的子数组和。递归公式为。\n",
    "dp[i] = nums[i] if dp[i - 1] < 0 else nums[i] + dp[i - 1]\n",
    "最后返回最大的dp。实际思想跟方法1一样。"
   ]
  },
  {
   "cell_type": "code",
   "execution_count": 27,
   "metadata": {
    "collapsed": false,
    "deletable": true,
    "editable": true
   },
   "outputs": [
    {
     "name": "stdout",
     "output_type": "stream",
     "text": [
      "18\n"
     ]
    }
   ],
   "source": [
    "def greasted_subarray(nums):\n",
    "    if not nums:\n",
    "        return 0\n",
    "    dp = [0 for _ in range(nums.__len__())]\n",
    "    dp[0] = nums[0]\n",
    "    for i in range(1, nums.__len__()):\n",
    "        if dp[i - 1] <= 0:\n",
    "            dp[i] = nums[i]\n",
    "        else:\n",
    "            dp[i] = dp[i - 1] + nums[i]\n",
    "    return max(dp)\n",
    "\n",
    "print(greasted_subarray([1,-2,3,10,-4,7,2,-5]))"
   ]
  },
  {
   "cell_type": "markdown",
   "metadata": {
    "deletable": true,
    "editable": true
   },
   "source": [
    "##### 32.从1到n整数中1出现的次数\n",
    "找数字规律"
   ]
  },
  {
   "cell_type": "markdown",
   "metadata": {
    "deletable": true,
    "editable": true
   },
   "source": [
    "##### 33.把数组排成最小的数\n",
    "输入：[3,32,321]\n",
    "返回:321323\n",
    "- 方法1：全排列取最小\n",
    "- 方法2：转换成字符串，可以解决大数问题。定义一种方法比出两个数的大小。"
   ]
  },
  {
   "cell_type": "markdown",
   "metadata": {
    "deletable": true,
    "editable": true
   },
   "source": [
    "##### 34.丑数\n",
    "只包含因子2，3，5的数称为丑数。判断一个数是不是丑数。\n",
    "- 方法1：累除："
   ]
  },
  {
   "cell_type": "code",
   "execution_count": 29,
   "metadata": {
    "collapsed": false,
    "deletable": true,
    "editable": true
   },
   "outputs": [],
   "source": [
    "def isUgly(number):\n",
    "    while number % 2 == 0:\n",
    "        number /= 2\n",
    "    while number % 3 == 0:\n",
    "        number /= 3\n",
    "    while number % 5 == 0:\n",
    "        number /= 5\n",
    "    return number == 1"
   ]
  },
  {
   "cell_type": "markdown",
   "metadata": {
    "deletable": true,
    "editable": true
   },
   "source": [
    "- 方法2：\n",
    "从1开始，保存已找到小于等于number的丑数。"
   ]
  },
  {
   "cell_type": "markdown",
   "metadata": {
    "deletable": true,
    "editable": true
   },
   "source": [
    "##### 35.第一个只出现一次的字符\n",
    "哈希表"
   ]
  },
  {
   "cell_type": "markdown",
   "metadata": {
    "deletable": true,
    "editable": true
   },
   "source": [
    "# 36.数组中的逆序对\n",
    "如在数组[7,5,6,4]中存在5个逆序对[7,6],[7,5],[7,4],[6,4],[5,4]"
   ]
  },
  {
   "cell_type": "code",
   "execution_count": 31,
   "metadata": {
    "collapsed": false,
    "deletable": true,
    "editable": true
   },
   "outputs": [
    {
     "name": "stdout",
     "output_type": "stream",
     "text": [
      "[1, 2, 3, 4, 5, 6]\n"
     ]
    }
   ],
   "source": [
    "def merge(left,right):\n",
    "    i,j = 0,0\n",
    "    res = []\n",
    "    while i < left.__len__() and j < right.__len__():\n",
    "        if left[i] <= right[j]:\n",
    "            res.append(left[i])\n",
    "            i += 1\n",
    "        else:\n",
    "            res.append(right[j])\n",
    "            j += 1\n",
    "    res += left[i:]\n",
    "    res += right[j:]\n",
    "    return res\n",
    "\n",
    "def sort(nums):\n",
    "    if nums.__len__() <= 1:\n",
    "        return nums\n",
    "    middle = nums.__len__() // 2\n",
    "    left = sort(nums[:middle])\n",
    "    right = sort(nums[middle:])\n",
    "    return merge(left, right)\n",
    "\n",
    "print(sort([1,3,5,2,4,6]))"
   ]
  },
  {
   "cell_type": "markdown",
   "metadata": {
    "collapsed": true,
    "deletable": true,
    "editable": true
   },
   "source": [
    "##### 37.两个链表的第一个公共节点\n",
    "找出长度，长的先走几步，使两个链表一样长。然后一起走"
   ]
  },
  {
   "cell_type": "markdown",
   "metadata": {
    "deletable": true,
    "editable": true
   },
   "source": [
    "##### 38.数字在排序数组中出现的次数\n",
    "二分查找"
   ]
  },
  {
   "cell_type": "markdown",
   "metadata": {
    "deletable": true,
    "editable": true
   },
   "source": [
    "##### 39.二叉树的深度"
   ]
  },
  {
   "cell_type": "code",
   "execution_count": 5,
   "metadata": {
    "collapsed": false,
    "deletable": true,
    "editable": true
   },
   "outputs": [
    {
     "name": "stdout",
     "output_type": "stream",
     "text": [
      "4\n"
     ]
    }
   ],
   "source": [
    "class Treenode(object):\n",
    "    def __init__(self, x):\n",
    "        self.left = None\n",
    "        self.right = None\n",
    "        self.val = x\n",
    "        \n",
    "def treeDepth(node):\n",
    "    if not node:\n",
    "        return 0\n",
    "    left = treeDepth(node.left)\n",
    "    right = treeDepth(node.right)\n",
    "    \n",
    "    return left + 1 if left > right else right + 1\n",
    "\n",
    "node1 = Treenode(1)\n",
    "node2 = Treenode(2)\n",
    "node3 = Treenode(3)\n",
    "node4 = Treenode(4)\n",
    "node5 = Treenode(5)\n",
    "node6 = Treenode(6)\n",
    "node7 = Treenode(7)\n",
    "\n",
    "node1.left = node2\n",
    "node1.right = node3\n",
    "node2.left = node4\n",
    "node2.right = node5\n",
    "node5.left = node7\n",
    "node3.right = node6\n",
    "print(treeDepth(node1))\n",
    "\n",
    "\n",
    "\n",
    "    "
   ]
  },
  {
   "cell_type": "markdown",
   "metadata": {
    "collapsed": false,
    "deletable": true,
    "editable": true
   },
   "source": [
    "##### 40.数组中只出现一次的数字\n",
    "一个数组里，只有两个数出现了一次，剩下的数都出现了两次。找出这两个出现一次的数字。\n",
    "- 现将数组里每个数都异或，则最终的结果是两个出现一次的数的异或。找到这个结果一个1的位置。用这个数字将数组分开。每个数组内单独异或。"
   ]
  },
  {
   "cell_type": "markdown",
   "metadata": {
    "collapsed": true,
    "deletable": true,
    "editable": true
   },
   "source": [
    "##### 41.和为s的两个数字。\n",
    "输入一个递增排序的数组和一个数字s。在数组中查找两个数，使他们的和正好是s。有多对返回任意即可\n",
    "- 方法1：哈希表\n",
    "- 方法2：双指针。一个指第一个数，一个指第二个数。两个和大于s，第二个前移，两个数小于s，第一个后移。"
   ]
  },
  {
   "cell_type": "markdown",
   "metadata": {
    "collapsed": true,
    "deletable": true,
    "editable": true
   },
   "source": [
    "42.翻转单词顺序vs左旋字符串"
   ]
  },
  {
   "cell_type": "code",
   "execution_count": 3,
   "metadata": {
    "collapsed": false,
    "deletable": true,
    "editable": true
   },
   "outputs": [
    {
     "name": "stdout",
     "output_type": "stream",
     "text": [
      "student. a am I \n"
     ]
    }
   ],
   "source": [
    "def reverse_sentence(string):\n",
    "    buf = string.split(\" \")\n",
    "    string = \"\"\n",
    "    for s in buf[::-1]:\n",
    "        string += s + \" \"\n",
    "    return string\n",
    "print(reverse_sentence(\"I am a student.\"))"
   ]
  },
  {
   "cell_type": "markdown",
   "metadata": {
    "deletable": true,
    "editable": true
   },
   "source": [
    "# 43.n个骰子的点数\n",
    "- 方法1.dfs\n",
    "- 方法2.动态规划\n",
    "\n",
    "f(k,n)表示第k个骰子，出现n的次数\n",
    "f(k,n)=f(k-1,n-1)+f(k-1,n-2)+f(k-1,n-3)+f(k-1,n-4)+f(k-1,n-5)+f(k-1,n-6)\n",
    "\n",
    "k-1,n-1)：第k个骰子投了点数1\n",
    "\n",
    "(k-1,n-2)：第k个骰子投了点数2\n",
    "\n",
    "(k-1,n-3)：第k个骰子投了点数3\n",
    "\n",
    "....\n",
    "\n",
    "(k-1,n-6)：第k个骰子投了点数6\n",
    "定义两个长度为6n+1的数组，一个存k-1， 一个存k"
   ]
  },
  {
   "cell_type": "markdown",
   "metadata": {
    "deletable": true,
    "editable": true
   },
   "source": [
    "##### 44.扑克牌的顺子\n",
    "从扑克牌中随机抽取5张牌，判断是不是顺子，A为1， JQK分别为11,12,13.大小王可以为任意值\n",
    "\n",
    "先把A，J，Q，K转化为数字，大小王为0，然后对数组排序。查找空缺的数字，如果空缺的数字的个数小于0的个数，则可以成为顺子"
   ]
  },
  {
   "cell_type": "markdown",
   "metadata": {
    "deletable": true,
    "editable": true
   },
   "source": [
    "##### 45.圆圈中最后剩下的数字\n",
    "约瑟夫环问题\n",
    "- 方法1，模拟删除过程，然后看剩下的数字\n",
    "- 方法2，数学方法。\n",
    "f(n, m)表示，每次在n个数字删除第m个后剩下的数字\n",
    "f(n, m) = [f(n-1, m) + m] % n"
   ]
  },
  {
   "cell_type": "code",
   "execution_count": 1,
   "metadata": {
    "collapsed": true,
    "deletable": true,
    "editable": true
   },
   "outputs": [],
   "source": [
    "def last_remaining(n, m):\n",
    "    if n < 1 or m < 1:\n",
    "        return\n",
    "    last = 0\n",
    "    for i in range(2, n+1):\n",
    "        last = (last + 2) % n\n",
    "    return last"
   ]
  },
  {
   "cell_type": "markdown",
   "metadata": {
    "deletable": true,
    "editable": true
   },
   "source": [
    "##### 46.  求1+2+...+n\n",
    "不能用for, while, if,else等\n",
    "用构造函数，虚函数，指针等求解"
   ]
  },
  {
   "cell_type": "markdown",
   "metadata": {
    "deletable": true,
    "editable": true
   },
   "source": [
    "##### 47.不用加减乘除做加法\n",
    "先计算不进位的按位加法，相当于异或。再计算进位，最后把两个结果再异或。直到没有进位为止"
   ]
  },
  {
   "cell_type": "code",
   "execution_count": 2,
   "metadata": {
    "collapsed": true,
    "deletable": true,
    "editable": true
   },
   "outputs": [],
   "source": [
    "def add(a, b):\n",
    "    while b != 0:\n",
    "        buf_sum = a ^ b\n",
    "        buf_carry = (a & b) << 1\n",
    "        a = buf_sum\n",
    "        b = buf_carry\n",
    "    return a"
   ]
  },
  {
   "cell_type": "markdown",
   "metadata": {
    "deletable": true,
    "editable": true
   },
   "source": [
    "##### 48.不能被继承的类\n",
    "略"
   ]
  },
  {
   "cell_type": "markdown",
   "metadata": {
    "deletable": true,
    "editable": true
   },
   "source": [
    "##### 49.把字符串转换成整数。\n",
    "考虑特殊输入，空，只有正负号，在0-9范围外等等"
   ]
  },
  {
   "cell_type": "markdown",
   "metadata": {
    "deletable": true,
    "editable": true
   },
   "source": [
    "##### 50.树中两节点最低公共祖先。"
   ]
  },
  {
   "cell_type": "code",
   "execution_count": 7,
   "metadata": {
    "collapsed": false,
    "deletable": true,
    "editable": true
   },
   "outputs": [
    {
     "name": "stdout",
     "output_type": "stream",
     "text": [
      "1\n"
     ]
    }
   ],
   "source": [
    "'''\n",
    "方法1：用dfs方法遍历树，记录下从root到p和从root到q的路径，比较路径中最靠后的相同节点。\n",
    "方法2：见注释\n",
    "'''\n",
    "\n",
    "# Definition for a binary tree node.\n",
    "class TreeNode(object):\n",
    "    def __init__(self, x):\n",
    "        self.val = x\n",
    "        self.left = None\n",
    "        self.right = None\n",
    "\n",
    "\n",
    "class Solution(object):\n",
    "    def dfs(self, node, path, table, p, q):\n",
    "        if not node:\n",
    "            return\n",
    "        path.append(node.val)\n",
    "        if node == p:\n",
    "            table[0] = path[:]\n",
    "        elif node == q:\n",
    "            table[1] = path[:]\n",
    "        if node.left:\n",
    "            self.dfs(node.left, path, table, p, q)\n",
    "            path.pop()\n",
    "        if node.right:\n",
    "            self.dfs(node.right, path, table, p, q)\n",
    "            path.pop()\n",
    "\n",
    "    def lowestCommonAncestor(self, root, p, q):\n",
    "        \"\"\"\n",
    "        :type root: TreeNode\n",
    "        :type p: TreeNode\n",
    "        :type q: TreeNode\n",
    "        :rtype: TreeNode\n",
    "        \"\"\"\n",
    "        if not root:\n",
    "            return\n",
    "        table = [[], []]\n",
    "        self.dfs(root, [], table, p, q)\n",
    "        for n in table[0][::-1]:\n",
    "            for m in table[1][::-1]:\n",
    "                if n == m:\n",
    "                    return m\n",
    "\n",
    "    def lowestCommonAncestor1(self, root, p, q):\n",
    "        #如果root为空，则说明没有找到p，q返回空\n",
    "        #如果root等于p或q。说明找到，返回root\n",
    "        if root in (None, p, q):\n",
    "            return root\n",
    "        #在左子树中查找p，q\n",
    "        left = self.lowestCommonAncestor1(root.left, p, q)\n",
    "        #在右子树中查找p，q\n",
    "        right = self.lowestCommonAncestor1(root.right, p, q)\n",
    "        #如果左子树和右子树都找到了，说明该节点就是LCA\n",
    "        if left and right:\n",
    "            return root\n",
    "\n",
    "        return left if left else right\n",
    "\n",
    "\n",
    "node1 = TreeNode(1)\n",
    "node2 = TreeNode(2)\n",
    "node3 = TreeNode(3)\n",
    "node4 = TreeNode(4)\n",
    "node1.left = node2\n",
    "node1.right = node3\n",
    "node2.right = node4\n",
    "solution = Solution()\n",
    "print(solution.lowestCommonAncestor(node1, node3, node4))\n"
   ]
  },
  {
   "cell_type": "markdown",
   "metadata": {
    "deletable": true,
    "editable": true
   },
   "source": [
    "##### 51.数组中重复的数字\n",
    "长度为n的数组，数字在0到n-1范围内。\n",
    "- 方法1：哈希表\n",
    "- 方法2：下标翻转"
   ]
  },
  {
   "cell_type": "markdown",
   "metadata": {
    "deletable": true,
    "editable": true
   },
   "source": [
    "##### 52.构建乘积数组"
   ]
  },
  {
   "cell_type": "markdown",
   "metadata": {
    "deletable": true,
    "editable": true
   },
   "source": [
    "##### 53.正则表达式匹配"
   ]
  },
  {
   "cell_type": "markdown",
   "metadata": {
    "deletable": true,
    "editable": true
   },
   "source": [
    "##### 54.表示数值的字符串"
   ]
  },
  {
   "cell_type": "code",
   "execution_count": 21,
   "metadata": {
    "collapsed": false,
    "deletable": true,
    "editable": true
   },
   "outputs": [
    {
     "name": "stdout",
     "output_type": "stream",
     "text": [
      "False\n"
     ]
    }
   ],
   "source": [
    "def scanDigits(string, index):\n",
    "    while index < len(string) and string[index] > '0' and string[index] < '9':\n",
    "        index += 1\n",
    "    return index\n",
    "\n",
    "def isExponential(string, index):\n",
    "    if string[index] != \"e\" and string[index] != \"E\":\n",
    "        return False\n",
    "    index += 1\n",
    "    if string[index] in [\"+\", \"-\"]:\n",
    "        index += 1\n",
    "    index = scanDigits(string, index)\n",
    "    return index == len(string), index\n",
    "\n",
    "def isNumeric(string):\n",
    "    if not string:\n",
    "        return False\n",
    "    n = len(string)\n",
    "    index = 0\n",
    "    if string[index] == \"+\" or string[index] == \"-\":\n",
    "        index += 1\n",
    "    if index >= n:\n",
    "        return False\n",
    "    index = scanDigits(string, index)\n",
    "    numeric = True\n",
    "    if index < n:\n",
    "        if string[index] == \".\":\n",
    "            index += 1\n",
    "            index = scanDigits(string, index)\n",
    "            if string[index] == \"e\" or string[index] == \"E\":\n",
    "                numeric, index = isExponential(string, index)\n",
    "        elif string[index] == \"e\" or string[index] == \"E\":\n",
    "                numeric,index  = isExponential(string, index)\n",
    "        else:\n",
    "            numeric = False\n",
    "    return numeric and index == n\n",
    "\n",
    "\n",
    "    \n",
    "        "
   ]
  },
  {
   "cell_type": "markdown",
   "metadata": {
    "deletable": true,
    "editable": true
   },
   "source": [
    "##### 55.字符流中第一个不重复的字符\n",
    "哈希表"
   ]
  },
  {
   "cell_type": "markdown",
   "metadata": {
    "deletable": true,
    "editable": true
   },
   "source": [
    "##### 56.链表中环的入口节点\n",
    "双指针之到两个指针相遇，相遇点在环中。然后遍历，数出环中的接节点个数n。\n",
    "然后将两个指针指向head。一个指针先移动n步，然后以相同速度移动，之到相遇，相遇点为环入口。"
   ]
  },
  {
   "cell_type": "markdown",
   "metadata": {
    "deletable": true,
    "editable": true
   },
   "source": [
    "##### 57.删除链表中重复的节点"
   ]
  },
  {
   "cell_type": "markdown",
   "metadata": {
    "deletable": true,
    "editable": true
   },
   "source": [
    "##### 58.二叉树的下一个节点\n",
    "分情况处理\n",
    "如果一个节点有右子树，那么下一个节点就是右子树里最左子节点\n",
    "如果节点是父节点的左子树，那么下一个节点就是父节点\n",
    "如果该节点没有右子节点，也不是父节点的左子节点。那么沿着父节点指针一直向上遍历，直到找到一个是他父节点的左子节点的节点。那么这个节点的父节点就是下一个节点。"
   ]
  },
  {
   "cell_type": "markdown",
   "metadata": {
    "deletable": true,
    "editable": true
   },
   "source": [
    "##### 59.对称二叉树"
   ]
  },
  {
   "cell_type": "code",
   "execution_count": 22,
   "metadata": {
    "collapsed": true,
    "deletable": true,
    "editable": true
   },
   "outputs": [],
   "source": [
    "def isSymmetrical(node1, node2):\n",
    "    if not node1 and not node2:\n",
    "        return True\n",
    "    if not node1 or not node2:\n",
    "        return False\n",
    "    if node1.val != node2.val:\n",
    "        return False\n",
    "    return isSymmetrical(node1.left, node2.right) and isSymmetrical(node1.right, node2.left)"
   ]
  },
  {
   "cell_type": "markdown",
   "metadata": {
    "deletable": true,
    "editable": true
   },
   "source": [
    "##### 60.层次遍历二叉树"
   ]
  },
  {
   "cell_type": "markdown",
   "metadata": {
    "deletable": true,
    "editable": true
   },
   "source": [
    "##### 61.之字形打印二叉树\n",
    "层次遍历完后单数行翻转"
   ]
  },
  {
   "cell_type": "markdown",
   "metadata": {
    "deletable": true,
    "editable": true
   },
   "source": [
    "##### 62.序列化二叉树\n",
    "按中序遍历顺序，重建二叉树。\n",
    "递归方法"
   ]
  },
  {
   "cell_type": "markdown",
   "metadata": {
    "deletable": true,
    "editable": true
   },
   "source": [
    "##### 63.二叉搜索树第k个节点\n",
    "中序遍历后再查找"
   ]
  },
  {
   "cell_type": "markdown",
   "metadata": {
    "deletable": true,
    "editable": true
   },
   "source": [
    "##### 64.数据流的中位数\n",
    "将数据分成两部分，左边用最大堆，右边用最小堆。并且保证两个队的数据数目之差不超过1."
   ]
  },
  {
   "cell_type": "markdown",
   "metadata": {},
   "source": [
    "##### 65.滑动窗口的最大值\n",
    "用一个队列，只存储可能成为最大值的数"
   ]
  },
  {
   "cell_type": "markdown",
   "metadata": {},
   "source": [
    "##### 66.矩阵中的路径\n",
    "回溯法。"
   ]
  },
  {
   "cell_type": "code",
   "execution_count": 6,
   "metadata": {
    "collapsed": false
   },
   "outputs": [
    {
     "name": "stdout",
     "output_type": "stream",
     "text": [
      "False\n"
     ]
    }
   ],
   "source": [
    "def dfs(matrix, row, col, visited, string, index):\n",
    "    if not matrix:\n",
    "        return False\n",
    "    if index >= len(string):\n",
    "        return True\n",
    "    rows = matrix.__len__()\n",
    "    cols = matrix[0].__len__()\n",
    "    has_path = False\n",
    "    if row >= 0 and row < rows and col >= 0 and col < cols and not visited[row][col] and matrix[row][col] == string[index]:\n",
    "        index += 1\n",
    "        visited[row][col] = True\n",
    "        has_path = dfs(matrix, row + 1, col, visited, string, index) or dfs(matrix, row, col + 1, visited, string,\n",
    "                                                                            index) or \\\n",
    "                   dfs(matrix, row - 1, col, visited, string, index) or dfs(matrix, row, col - 1, visited, string,\n",
    "                                                                            index)\n",
    "        if has_path == False:\n",
    "            index -= 1\n",
    "            visited[row][col] = False\n",
    "    return has_path\n",
    "\n",
    "\n",
    "def hasPath(matrix, string):\n",
    "    if not matrix:\n",
    "        return False\n",
    "    rows = matrix.__len__()\n",
    "    cols = matrix[0].__len__()\n",
    "    visited = [[False for _ in range(cols)] for _ in range(rows)]\n",
    "    for i in range(rows):\n",
    "        for j in range(cols):\n",
    "            if dfs(matrix, i, j, visited, string, 0):\n",
    "                return True\n",
    "    return False\n",
    "\n",
    "\n",
    "print(hasPath(\n",
    "    [\n",
    "        [\"a\", \"b\", \"c\", \"e\"],\n",
    "        [\"s\", \"f\", \"c\", \"s\"],\n",
    "        [\"a\", \"d\", \"e\", \"e\"]\n",
    "    ], \"abcb\"\n",
    "))\n"
   ]
  },
  {
   "cell_type": "markdown",
   "metadata": {},
   "source": [
    "##### 67.机器人的运动范围\n",
    "回溯法"
   ]
  }
 ],
 "metadata": {
  "celltoolbar": "Raw Cell Format",
  "kernelspec": {
   "display_name": "Python 3",
   "language": "python",
   "name": "python3"
  },
  "language_info": {
   "codemirror_mode": {
    "name": "ipython",
    "version": 3
   },
   "file_extension": ".py",
   "mimetype": "text/x-python",
   "name": "python",
   "nbconvert_exporter": "python",
   "pygments_lexer": "ipython3",
   "version": "3.5.3"
  }
 },
 "nbformat": 4,
 "nbformat_minor": 2
}
