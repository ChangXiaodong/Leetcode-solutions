{
 "cells": [
  {
   "cell_type": "markdown",
   "metadata": {
    "deletable": true,
    "editable": true
   },
   "source": [
    "# 二分查找总结\n",
    "\n",
    "二分查找总体可以分为两类：\n",
    "\n",
    "## 以index为搜索空间的二分查找：\n",
    "\n",
    "[153. Find Minimum in Rotated Sorted Array](https://leetcode.com/problems/find-minimum-in-rotated-sorted-array/#/description)\n",
    "\n",
    "能够以index为搜索空间的前提是数组时要经过排序的，如果没有排序则需要以range为搜索空间\n",
    "\n",
    "## 以range为搜索空间的二分查找：\n",
    "\n",
    "[287. Find the Duplicate Number](https://leetcode.com/problems/find-the-duplicate-number/#/description)\n",
    "\n",
    "搜索空间：low为最小数，high为最大数，计算出middle\n",
    "\n",
    "遍历数组，统计出小于middle的个数，如果这个数大于数组长度的一半，则说明重复的数字在小于middle那边，否则在大于middle那边\n",
    "\n",
    "[378. Kth Smallest Element in a Sorted Matrix](https://leetcode.com/problems/find-the-duplicate-number/#/description)\n",
    "\n",
    "矩阵行按升序排列，列按升序排列，但是行和列之间没有顺序，因此二叉搜索空间为range\n",
    "\n",
    "搜索空间：low为左上角的数，high为右下角的数\n",
    "\n",
    "遍历矩阵每一行，统计出大于middle的个数cnt\n",
    "\n",
    "如果cnt比k小，则说明第k小的值在大于middle的那部分，否则在小于middle的那部分"
   ]
  },
  {
   "cell_type": "markdown",
   "metadata": {
    "deletable": true,
    "editable": true
   },
   "source": [
    "## 循环条件\n",
    "### 1.在一个无重复的数组里，查找某个数的下标，没有返回-1"
   ]
  },
  {
   "cell_type": "code",
   "execution_count": 7,
   "metadata": {
    "collapsed": false,
    "deletable": true,
    "editable": true
   },
   "outputs": [
    {
     "data": {
      "text/plain": [
       "TestResults(failed=0, attempted=10)"
      ]
     },
     "execution_count": 7,
     "metadata": {},
     "output_type": "execute_result"
    }
   ],
   "source": [
    "def binarySearch1(nums, target):\n",
    "    '''\n",
    "    >>> binarySearch1([1,2,3], 1)\n",
    "    0\n",
    "    >>> binarySearch1([1,2,3], 4)\n",
    "    -1\n",
    "    >>> binarySearch1([1], 1)\n",
    "    0\n",
    "    >>> binarySearch1([1], 0)\n",
    "    -1\n",
    "    >>> binarySearch1([1,2], 2)\n",
    "    1\n",
    "    >>> binarySearch1([1,2], 3)\n",
    "    -1\n",
    "    '''\n",
    "    if not nums:\n",
    "        return -1\n",
    "    low = 0\n",
    "    high = nums.__len__() - 1\n",
    "    while low <= high:  #注意1\n",
    "        mid = low + ((high - low) >> 1)\n",
    "        if nums[mid] == target:\n",
    "            return mid\n",
    "        elif nums[mid] > target:\n",
    "            high = mid - 1   #注意2\n",
    "        else:\n",
    "            low = mid + 1    #注意3\n",
    "    return -1\n",
    "import doctest\n",
    "doctest.testmod()"
   ]
  },
  {
   "cell_type": "markdown",
   "metadata": {
    "deletable": true,
    "editable": true
   },
   "source": [
    "- 注意1：如果是low < high，那么当target等于num[num.length-1]时，会找不到该值。\n",
    "\n",
    "\n",
    "- 注意2：因为num[mid] > target, 所以如果有num[index] == target, index一定小于mid，能不能写成high = mid呢？举例来说：num = {1, 2, 5, 7, 9}; 如果写成high = mid，当循环到low = 0, high = 0时（即num[low] = 1, num[high] = 1时），mid将永远等于0，此时high也将永远等于0，陷入死循环。也就是说寻找target = -2时，程序将死循环。\n",
    "\n",
    "\n",
    "- 注意3：因为num[mid] < target, 所以如果有num[index] == target, index一定大于mid，能不能写成start = mid呢？举例来说：num = {1, 2, 5, 7, 9}; 如果写成low = mid，当循环到low = 3, high = 4时（即num[low] = 7, num[high] = 9时），mid将永远等于3，此时low也将永远等于3，陷入死循环。也就是说寻找target = 9时，程序将死循环。"
   ]
  },
  {
   "cell_type": "markdown",
   "metadata": {
    "deletable": true,
    "editable": true
   },
   "source": [
    "### 2.在有序（非降序）数组中查找一个target值，数组中元素可能有重复，找到target在数组中对应的index的最小值，找不到则返回-1"
   ]
  },
  {
   "cell_type": "code",
   "execution_count": 12,
   "metadata": {
    "collapsed": false,
    "deletable": true,
    "editable": true
   },
   "outputs": [
    {
     "data": {
      "text/plain": [
       "TestResults(failed=0, attempted=37)"
      ]
     },
     "execution_count": 12,
     "metadata": {},
     "output_type": "execute_result"
    }
   ],
   "source": [
    "def binarySearch2(nums, target):\n",
    "    '''\n",
    "    >>> binarySearch2([1,2,3], 1)\n",
    "    0\n",
    "    >>> binarySearch2([1,2,3], 4)\n",
    "    -1\n",
    "    >>> binarySearch2([1], 1)\n",
    "    0\n",
    "    >>> binarySearch2([1], 0)\n",
    "    -1\n",
    "    >>> binarySearch2([1,2], 2)\n",
    "    1\n",
    "    >>> binarySearch2([1,2], 3)\n",
    "    -1\n",
    "    >>> binarySearch2([1,1,2,2], 3)\n",
    "    -1\n",
    "    >>> binarySearch2([1,1,2,2], 2)\n",
    "    2\n",
    "    >>> binarySearch2([1,1,2,2], -2)\n",
    "    -1\n",
    "    >>> binarySearch2([1,1,2], 1)\n",
    "    0\n",
    "    >>> binarySearch2([1,1,2], -1)\n",
    "    -1\n",
    "    >>> binarySearch2([1,1,2], 2)\n",
    "    2\n",
    "    '''\n",
    "    low = 0\n",
    "    high = nums.__len__() - 1\n",
    "    while low + 1 < high:    #注意1\n",
    "        mid = low + ((high - low) >> 1)\n",
    "        if nums[mid] >= target:    #注意2\n",
    "            high = mid\n",
    "        else:\n",
    "            low = mid + 1     #注意3\n",
    "    if nums[low] == target:   #注意4\n",
    "        return low\n",
    "    elif nums[high] == target:\n",
    "        return high\n",
    "    else:\n",
    "        return -1\n",
    "import doctest\n",
    "doctest.testmod()"
   ]
  },
  {
   "cell_type": "markdown",
   "metadata": {
    "deletable": true,
    "editable": true
   },
   "source": [
    "- 注意1：为了对左右相邻的两个数进行对比，循环结束的时候，low和high应该相隔1。\n",
    "\n",
    "\n",
    "- 注意2：\n",
    "a). 当num[mid] == target时，此时并不能直接返回mid，因为有可能num[mid-1]或者num[mid-2]…也等于target，所以此时应该将high  = mid，然后继续循环。\n",
    "b). 当num[mid] > target时，如果有num[index] == target，那么index一定小于mid，本来按此道理应该令high = mid – 1，但是为什么此处可以high = mid呢？回头去看上一题（标准版）的注意2，只有当low = high时，才会出现死循环的情况。这里因为while循环的限制条件使得low和high永远不可能相等，所以high = mid也是正确的。由此，我们可将a) 和 b) 两种情况合并。\n",
    "\n",
    "\n",
    "- 注意3：这里与上题一致，不用有变化。但是在这里写成low = mid也是成立的，为啥呢？回头看上题的注意3，同样的例子num = {1, 2, 5, 7, 9}; 在上题中，如果写成low = mid，当循环到low = 3, high = 4时（即num[low] = 7, num[high] = 9时），mid将永远等于3，此时low也将永远等于3，陷入死循环。但在此题中由于while中的限制条件的变化，避免了这种死循环的发生。\n",
    "\n",
    "\n",
    "- 注意4：此处为什么要分别检验num[low]和num[high]是否等于target呢？因为这两个值都有可能等于target，取决于中间二分时low和high的更新过程。这里随便用几个简单的例子即可验证。如果循环结束时num[low] == num[high] == target，根据题意应该返回low，所以我们先验证low。如果两个值都不是target，则target不存在，返回-1。"
   ]
  },
  {
   "cell_type": "markdown",
   "metadata": {
    "deletable": true,
    "editable": true
   },
   "source": [
    "### 3.在有序（非降序）数组中查找一个target值，数组中元素可能有重复，找到target在数组中对应的index的最大值，找不到则返回-1。"
   ]
  },
  {
   "cell_type": "code",
   "execution_count": 13,
   "metadata": {
    "collapsed": false,
    "deletable": true,
    "editable": true
   },
   "outputs": [
    {
     "data": {
      "text/plain": [
       "TestResults(failed=0, attempted=37)"
      ]
     },
     "execution_count": 13,
     "metadata": {},
     "output_type": "execute_result"
    }
   ],
   "source": [
    "def binarySearch3(nums, target):\n",
    "    '''\n",
    "    >>> binarySearch3([1,2,3], 1)\n",
    "    0\n",
    "    >>> binarySearch3([1,2,3], 4)\n",
    "    -1\n",
    "    >>> binarySearch3([1], 1)\n",
    "    0\n",
    "    >>> binarySearch3([1], 0)\n",
    "    -1\n",
    "    >>> binarySearch3([1,2], 2)\n",
    "    1\n",
    "    >>> binarySearch3([1,2], 3)\n",
    "    -1\n",
    "    >>> binarySearch3([1,1,2,2], 3)\n",
    "    -1\n",
    "    >>> binarySearch3([1,1,2,2], 2)\n",
    "    3\n",
    "    >>> binarySearch3([1,1,2,2], -2)\n",
    "    -1\n",
    "    >>> binarySearch3([1,1,2], 1)\n",
    "    1\n",
    "    >>> binarySearch3([1,1,2], -1)\n",
    "    -1\n",
    "    >>> binarySearch3([1,1,2], 2)\n",
    "    2\n",
    "    '''\n",
    "    low = 0\n",
    "    high = nums.__len__() - 1\n",
    "    while low + 1 < high:    #注意1\n",
    "        mid = low + ((high - low) >> 1)\n",
    "        if nums[mid] <= target:    #注意2\n",
    "            low = mid\n",
    "        else:\n",
    "            high = mid - 1     #注意3\n",
    "    if nums[high] == target:\n",
    "        return high\n",
    "    elif nums[low] == target:   #注意4\n",
    "        return low\n",
    "    else:\n",
    "        return -1\n",
    "import doctest\n",
    "doctest.testmod()"
   ]
  },
  {
   "cell_type": "markdown",
   "metadata": {
    "deletable": true,
    "editable": true
   },
   "source": [
    "道理与上一题相同，只要在注意2和注意3处与上题反过来就行了，原理不重复了，拿不准的时候可以用几个简单的test case测试一下。"
   ]
  },
  {
   "cell_type": "markdown",
   "metadata": {
    "deletable": true,
    "editable": true
   },
   "source": [
    "### 4.在有序（非降序）数组中查找一个可能的”最大”index，使得num[index] < target，数组中元素可能有重复，找不到则返回-1。"
   ]
  },
  {
   "cell_type": "code",
   "execution_count": 14,
   "metadata": {
    "collapsed": false,
    "deletable": true,
    "editable": true
   },
   "outputs": [
    {
     "data": {
      "text/plain": [
       "TestResults(failed=0, attempted=37)"
      ]
     },
     "execution_count": 14,
     "metadata": {},
     "output_type": "execute_result"
    }
   ],
   "source": [
    "def binarySearch4(nums, target):\n",
    "    '''\n",
    "    >>> binarySearch4([],1)\n",
    "    -1\n",
    "    >>> binarySearch4([1, 2, 3, 3, 3, 6, 6, 6, 6],5)\n",
    "    4\n",
    "    >>> binarySearch4([1, 2, 3, 3, 3, 6, 6, 6, 6],0)\n",
    "    -1\n",
    "    >>> binarySearch4([1, 2, 3, 3, 3, 6, 6, 6, 6],7)\n",
    "    8\n",
    "    '''\n",
    "    if not nums:\n",
    "        return -1\n",
    "    low = 0\n",
    "    high = nums.__len__() - 1\n",
    "    while low + 1 < high:\n",
    "        mid = low + ((high - low) >> 1)\n",
    "        if nums[mid] >= target:   #注意1\n",
    "            high = mid - 1\n",
    "        else:\n",
    "            low = mid             #注意2\n",
    "    if nums[high] < target:      #注意3\n",
    "        return high\n",
    "    elif nums[low] < target:\n",
    "        return low\n",
    "    else:\n",
    "        return -1\n",
    "import doctest\n",
    "doctest.testmod()"
   ]
  },
  {
   "cell_type": "markdown",
   "metadata": {
    "deletable": true,
    "editable": true
   },
   "source": [
    "- 注意1：我们可以对此步分开考虑，当num[mid] == target时，因为我们要求num[index] < target，所以index必须在mid左边。当num[mid] > target时，target肯定在num[mid]的左边，所以index肯定也要在mid的左边。所以nums[mid] >= target, high = mid - 1.那么再多想一步，假如num[mid] >= target时，我们进行了high = mid的操作，会产生什么后果呢？经我的有限测试，好像并没有什么问题，low + 1 == high的时候，循环就结束了，所以标准版二分查找中出现的死循环的情况并不存在。\n",
    "\n",
    "\n",
    "- 注意2：当num[mid] < target时，为什么此处用low = mid而不是low = mid + 1？因为有可能num[mid+1] == target，此时正确的答案应该是mid,若low = mid + 1, 则错过了正确答案。\n",
    "\n",
    "\n",
    "- 注意3:因为是求最大的index，因此先检查high再检查low"
   ]
  },
  {
   "cell_type": "markdown",
   "metadata": {
    "collapsed": true,
    "deletable": true,
    "editable": true
   },
   "source": [
    "### 5.在有序（非降序）数组中查找一个可能的”最小”index，使得num[index] > target，数组中元素可能有重复，找不到则返回-1。"
   ]
  },
  {
   "cell_type": "code",
   "execution_count": 11,
   "metadata": {
    "collapsed": false
   },
   "outputs": [
    {
     "data": {
      "text/plain": [
       "TestResults(failed=0, attempted=37)"
      ]
     },
     "execution_count": 11,
     "metadata": {},
     "output_type": "execute_result"
    }
   ],
   "source": [
    "def binarySearch5(nums, target):\n",
    "    '''\n",
    "    >>> binarySearch5([1,2,3],2)\n",
    "    2\n",
    "    >>> binarySearch5([1,3,4,4,4,5,5,8], 7)\n",
    "    7\n",
    "    >>> binarySearch5([1,1,1,1,1], -2)\n",
    "    0\n",
    "    '''\n",
    "    if not nums:\n",
    "        return -1\n",
    "    low = 0\n",
    "    high = nums.__len__()\n",
    "    while low + 1 < high:\n",
    "        mid = low + ((high - low) >> 1)\n",
    "        if nums[mid] <= target:\n",
    "            low = mid + 1      #注意1\n",
    "        else:\n",
    "            high = mid\n",
    "    if nums[low] > target:    #注意2\n",
    "        return low\n",
    "    elif nums[high] > target:\n",
    "        return high\n",
    "    else:\n",
    "        return -1\n",
    "import doctest\n",
    "doctest.testmod()"
   ]
  },
  {
   "cell_type": "markdown",
   "metadata": {},
   "source": [
    "与上一题相似，写成start=mid也可以"
   ]
  },
  {
   "cell_type": "markdown",
   "metadata": {},
   "source": [
    "#### Summary：\n",
    "1. 数组中没有重复元素，while条件是(low <= high),low = mid + 1, high = mid - 1\n",
    "2. 有重复元素时，while条件是(low + 1 < high), 需要根据实际求值的范围确定low和high的更新方法"
   ]
  },
  {
   "cell_type": "markdown",
   "metadata": {},
   "source": [
    "[参考链接](https://simpleandstupid.com/2014/12/23/%E5%85%B3%E4%BA%8E%E4%BA%8C%E5%88%86%E6%9F%A5%E6%89%BE%E7%9A%84%E6%80%BB%E7%BB%93/)"
   ]
  }
 ],
 "metadata": {
  "kernelspec": {
   "display_name": "Python 3",
   "language": "python",
   "name": "python3"
  },
  "language_info": {
   "codemirror_mode": {
    "name": "ipython",
    "version": 3
   },
   "file_extension": ".py",
   "mimetype": "text/x-python",
   "name": "python",
   "nbconvert_exporter": "python",
   "pygments_lexer": "ipython3",
   "version": "3.5.3"
  }
 },
 "nbformat": 4,
 "nbformat_minor": 0
}
