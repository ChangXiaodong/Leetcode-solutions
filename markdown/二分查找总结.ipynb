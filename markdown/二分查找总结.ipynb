{
 "cells": [
  {
   "cell_type": "markdown",
   "metadata": {
    "deletable": true,
    "editable": true
   },
   "source": [
    "## 循环条件\n",
    "### 1.在一个无重复的数组里，查找某个数的下标，没有返回-1"
   ]
  },
  {
   "cell_type": "code",
   "execution_count": 38,
   "metadata": {
    "collapsed": false,
    "deletable": true,
    "editable": true
   },
   "outputs": [],
   "source": [
    "def binarySearch1(nums, target):\n",
    "    '''\n",
    "    >>> binarySearch([1,2,3], 1)\n",
    "    0\n",
    "    >>> binarySearch([1,2,3], 4)\n",
    "    -1\n",
    "    >>> binarySearch([1], 1)\n",
    "    0\n",
    "    >>> binarySearch([1], 0)\n",
    "    -1\n",
    "    >>> binarySearch([1,2], 2)\n",
    "    1\n",
    "    >>> binarySearch([1,2], 3)\n",
    "    -1\n",
    "    '''\n",
    "    if not nums:\n",
    "        return -1\n",
    "    low = 0\n",
    "    high = nums.__len__() - 1\n",
    "    while low <= high:  #注意1\n",
    "        mid = low + ((high - low) >> 1)\n",
    "        if nums[mid] == target:\n",
    "            return mid\n",
    "        elif nums[mid] > target:\n",
    "            high = mid - 1   #注意2\n",
    "        else:\n",
    "            low = mid + 1    #注意3\n",
    "    return -1"
   ]
  },
  {
   "cell_type": "markdown",
   "metadata": {
    "deletable": true,
    "editable": true
   },
   "source": [
    "- 注意1：如果是start < end，那么当target等于num[num.length-1]时，会找不到该值。\n",
    "\n",
    "\n",
    "- 注意2：因为num[mid] > target, 所以如果有num[index] == target, index一定小于mid，能不能写成end = mid呢？举例来说：num = {1, 2, 5, 7, 9}; 如果写成end = mid，当循环到start = 0, end = 0时（即num[start] = 1, num[end] = 1时），mid将永远等于0，此时end也将永远等于0，陷入死循环。也就是说寻找target = -2时，程序将死循环。\n",
    "\n",
    "\n",
    "- 注意3：因为num[mid] < target, 所以如果有num[index] == target, index一定大于mid，能不能写成start = mid呢？举例来说：num = {1, 2, 5, 7, 9}; 如果写成start = mid，当循环到start = 3, end = 4时（即num[start] = 7, num[end] = 9时），mid将永远等于3，此时start也将永远等于3，陷入死循环。也就是说寻找target = 9时，程序将死循环。"
   ]
  },
  {
   "cell_type": "markdown",
   "metadata": {
    "deletable": true,
    "editable": true
   },
   "source": [
    "### 2.在有序（非降序）数组中查找一个target值，数组中元素可能有重复，找到target在数组中对应的index的最小值，找不到则返回-1"
   ]
  },
  {
   "cell_type": "code",
   "execution_count": 52,
   "metadata": {
    "collapsed": false,
    "deletable": true,
    "editable": true
   },
   "outputs": [],
   "source": [
    "def binarySearch2(nums, target):\n",
    "    '''\n",
    "    >>> binarySearch2([1,2,3], 1)\n",
    "    0\n",
    "    >>> binarySearch2([1,2,3], 4)\n",
    "    -1\n",
    "    >>> binarySearch2([1], 1)\n",
    "    0\n",
    "    >>> binarySearch2([1], 0)\n",
    "    -1\n",
    "    >>> binarySearch2([1,2], 2)\n",
    "    1\n",
    "    >>> binarySearch2([1,2], 3)\n",
    "    -1\n",
    "    >>> binarySearch2([1,1,2,2], 3)\n",
    "    -1\n",
    "    >>> binarySearch2([1,1,2,2], 2)\n",
    "    2\n",
    "    >>> binarySearch2([1,1,2,2], -2)\n",
    "    -1\n",
    "    >>> binarySearch2([1,1,2], 1)\n",
    "    0\n",
    "    >>> binarySearch2([1,1,2], -1)\n",
    "    -1\n",
    "    >>> binarySearch2([1,1,2], 2)\n",
    "    2\n",
    "    '''\n",
    "    low = 0\n",
    "    high = nums.__len__() - 1\n",
    "    while low + 1 < high:    #注意1\n",
    "        mid = low + ((high - low) >> 1)\n",
    "        if nums[mid] >= target:    #注意2\n",
    "            high = mid\n",
    "        else:\n",
    "            low = mid + 1     #注意3\n",
    "    if nums[low] == target:   #注意4\n",
    "        return low\n",
    "    elif nums[high] == target:\n",
    "        return high\n",
    "    else:\n",
    "        return -1"
   ]
  },
  {
   "cell_type": "markdown",
   "metadata": {
    "deletable": true,
    "editable": true
   },
   "source": [
    "- 注意1：为了对左右相邻的两个数进行对比，循环结束的时候，start和end应该相隔1。\n",
    "\n",
    "\n",
    "- 注意2：\n",
    "a). 当num[mid] == target时，此时并不能直接返回mid，因为有可能num[mid-1]或者num[mid-2]…也等于target，所以此时应该将end  = mid，然后继续循环。\n",
    "b). 当num[mid] > target时，如果有num[index] == target，那么index一定小于mid，本来按此道理应该令end = mid – 1，但是为什么此处可以end = mid呢？回头去看上一题（标准版）的注意2，只有当start = end时，才会出现死循环的情况。这里因为while循环的限制条件使得start和end永远不可能相等，所以end = mid也是正确的。由此，我们可将a) 和 b) 两种情况合并。\n",
    "\n",
    "\n",
    "- 注意3：这里与上题一致，不用有变化。但是在这里写成start = mid也是成立的，为啥呢？回头看上题的注意3，同样的例子num = {1, 2, 5, 7, 9}; 在上题中，如果写成start = mid，当循环到start = 3, end = 4时（即num[start] = 7, num[end] = 9时），mid将永远等于3，此时start也将永远等于3，陷入死循环。但在此题中由于while中的限制条件的变化，避免了这种死循环的发生。\n",
    "\n",
    "\n",
    "- 注意4：此处为什么要分别检验num[start]和num[end]是否等于target呢？因为这两个值都有可能等于target，取决于中间二分时start和end的更新过程。这里随便用几个简单的例子即可验证。如果循环结束时num[start] == num[end] == target，根据题意应该返回start，所以我们先验证start。如果两个值都不是target，则target不存在，返回-1。"
   ]
  },
  {
   "cell_type": "markdown",
   "metadata": {
    "deletable": true,
    "editable": true
   },
   "source": [
    "### 3.在有序（非降序）数组中查找一个target值，数组中元素可能有重复，找到target在数组中对应的index的最大值，找不到则返回-1。"
   ]
  },
  {
   "cell_type": "code",
   "execution_count": 58,
   "metadata": {
    "collapsed": true,
    "deletable": true,
    "editable": true
   },
   "outputs": [],
   "source": [
    "def binarySearch3(nums, target):\n",
    "    '''\n",
    "    >>> binarySearch3([1,2,3], 1)\n",
    "    0\n",
    "    >>> binarySearch3([1,2,3], 4)\n",
    "    -1\n",
    "    >>> binarySearch3([1], 1)\n",
    "    0\n",
    "    >>> binarySearch3([1], 0)\n",
    "    -1\n",
    "    >>> binarySearch3([1,2], 2)\n",
    "    1\n",
    "    >>> binarySearch3([1,2], 3)\n",
    "    -1\n",
    "    >>> binarySearch3([1,1,2,2], 3)\n",
    "    -1\n",
    "    >>> binarySearch3([1,1,2,2], 2)\n",
    "    3\n",
    "    >>> binarySearch3([1,1,2,2], -2)\n",
    "    -1\n",
    "    >>> binarySearch3([1,1,2], 1)\n",
    "    1\n",
    "    >>> binarySearch3([1,1,2], -1)\n",
    "    -1\n",
    "    >>> binarySearch3([1,1,2], 2)\n",
    "    2\n",
    "    '''\n",
    "    low = 0\n",
    "    high = nums.__len__() - 1\n",
    "    while low + 1 < high:    #注意1\n",
    "        mid = low + ((high - low) >> 1)\n",
    "        if nums[mid] <= target:    #注意2\n",
    "            low = mid\n",
    "        else:\n",
    "            high = mid - 1     #注意3\n",
    "    if nums[high] == target:\n",
    "        return high\n",
    "    elif nums[low] == target:   #注意4\n",
    "        return low\n",
    "    else:\n",
    "        return -1"
   ]
  },
  {
   "cell_type": "markdown",
   "metadata": {
    "deletable": true,
    "editable": true
   },
   "source": [
    "道理与上一题相同，只要在注意2和注意3处与上题反过来就行了，原理不重复了，拿不准的时候可以用几个简单的test case测试一下。"
   ]
  },
  {
   "cell_type": "markdown",
   "metadata": {
    "deletable": true,
    "editable": true
   },
   "source": [
    "### 4.在有序（非降序）数组中查找一个可能的”最大”index，使得num[index] < target，数组中元素可能有重复，找不到则返回-1。"
   ]
  },
  {
   "cell_type": "code",
   "execution_count": 63,
   "metadata": {
    "collapsed": true,
    "deletable": true,
    "editable": true
   },
   "outputs": [],
   "source": [
    "def binarySearch4(nums, target):\n",
    "    '''\n",
    "    >>> binarySearch4([],1)\n",
    "    -1\n",
    "    >>> binarySearch4([1, 2, 3, 3, 3, 6, 6, 6, 6],5)\n",
    "    4\n",
    "    >>> binarySearch4([1, 2, 3, 3, 3, 6, 6, 6, 6],0)\n",
    "    -1\n",
    "    >>> binarySearch4([1, 2, 3, 3, 3, 6, 6, 6, 6],7)\n",
    "    8\n",
    "    '''\n",
    "    if not nums:\n",
    "        return -1\n",
    "    low = 0\n",
    "    high = nums.__len__() - 1\n",
    "    while low + 1 < high:\n",
    "        mid = low + ((high - low) >> 1)\n",
    "        if nums[mid] >= target:   #注意1\n",
    "            high = mid - 1\n",
    "        else:\n",
    "            low = mid             #注意2\n",
    "    if nums[high] < target:\n",
    "        return high\n",
    "    elif nums[low] < target:\n",
    "        return low\n",
    "    else:\n",
    "        return -1"
   ]
  },
  {
   "cell_type": "markdown",
   "metadata": {
    "deletable": true,
    "editable": true
   },
   "source": [
    "- 注意1：我们可以对此步分开考虑，当num[mid] == target时，因为我们要求num[index] < target，所以index必须在mid左边。当num[mid] > target时，target肯定在num[mid]的左边，所以index肯定也要在mid的左边。所以nums[mid] >= target, high = mid - 1.那么再多想一步，假如num[mid] >= target时，我们进行了high = mid的操作，会产生什么后果呢？经我的有限测试，好像并没有什么问题，low + 1 == high的时候，循环就结束了，所以标准版二分查找中出现的死循环的情况并不存在。\n",
    "\n",
    "\n",
    "- 注意2：当num[mid] < target时，为什么此处用low = mid而不是low = mid + 1？因为有可能num[mid+1] == target，此时正确的答案应该是\n",
    "此时如果low = mid + 1, 则num[start] == target，明显错过了正解。"
   ]
  },
  {
   "cell_type": "code",
   "execution_count": 62,
   "metadata": {
    "collapsed": false,
    "deletable": true,
    "editable": true
   },
   "outputs": [
    {
     "data": {
      "text/plain": [
       "TestResults(failed=0, attempted=22)"
      ]
     },
     "execution_count": 62,
     "metadata": {},
     "output_type": "execute_result"
    }
   ],
   "source": [
    "import doctest\n",
    "doctest.testmod()"
   ]
  },
  {
   "cell_type": "code",
   "execution_count": null,
   "metadata": {
    "collapsed": true,
    "deletable": true,
    "editable": true
   },
   "outputs": [],
   "source": [
    ""
   ]
  }
 ],
 "metadata": {
  "kernelspec": {
   "display_name": "Python 3",
   "language": "python",
   "name": "python3"
  },
  "language_info": {
   "codemirror_mode": {
    "name": "ipython",
    "version": 3.0
   },
   "file_extension": ".py",
   "mimetype": "text/x-python",
   "name": "python",
   "nbconvert_exporter": "python",
   "pygments_lexer": "ipython3",
   "version": "3.6.0"
  }
 },
 "nbformat": 4,
 "nbformat_minor": 0
}